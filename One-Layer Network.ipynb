{
 "cells": [
  {
   "cell_type": "markdown",
   "metadata": {},
   "source": [
    "# Actividad 06 - Una capa de Neuronas (One-Layer Network)"
   ]
  },
  {
   "cell_type": "markdown",
   "metadata": {},
   "source": [
    "**Centro Universitario de Ciencias Exactas e Ingenierías**\\\n",
    "**Materia** Inteligencia artificial 2\\\n",
    "**Nombre:** Mejia Blanco Erick\\\n",
    "**Código:** 211408613"
   ]
  },
  {
   "cell_type": "markdown",
   "metadata": {},
   "source": [
    "Utiliza los datos en DataSet3 y clasifica los datos con una capa de neuronas. Reporta tu experimentación y gráfica el hiperplano separador para cada una de las neuronas con los puntos de clasificación."
   ]
  },
  {
   "cell_type": "code",
   "execution_count": 1,
   "metadata": {},
   "outputs": [],
   "source": [
    "%matplotlib inline\n",
    "import numpy as np\n",
    "import matplotlib.pyplot as plt\n",
    "import scipy.io as sio"
   ]
  },
  {
   "cell_type": "code",
   "execution_count": 2,
   "metadata": {},
   "outputs": [],
   "source": [
    "def sigmoid(z):\n",
    "    y = 1 / (1 + np.exp(-z))\n",
    "    dy_dz = y * (1 - y)\n",
    "    return y, dy_dz"
   ]
  },
  {
   "cell_type": "markdown",
   "metadata": {},
   "source": [
    "**Version batch**"
   ]
  },
  {
   "cell_type": "code",
   "execution_count": 3,
   "metadata": {},
   "outputs": [],
   "source": [
    "def one_layer_network(x, Y, w, b, eta,p, epochs=400, propagation=sigmoid):\n",
    "    for gen in range(epochs):\n",
    "        y, dy = propagation(w@x+b)\n",
    "        error = Y - y\n",
    "        w = w + (eta/p) * (error*dy) @ x.T\n",
    "        b = b + (eta/p) * np.sum(error*dy, axis=1, keepdims=True)\n",
    "    return w,b"
   ]
  },
  {
   "cell_type": "code",
   "execution_count": 4,
   "metadata": {
    "scrolled": true
   },
   "outputs": [
    {
     "data": {
      "text/plain": [
       "{'__header__': b'MATLAB 5.0 MAT-file, Platform: PCWIN64, Created on: Thu Sep 19 12:32:37 2019',\n",
       " '__version__': '1.0',\n",
       " '__globals__': [],\n",
       " 'X': array([[0.96090597, 0.9566975 , 0.50640049, 0.97754951, 0.49868218,\n",
       "         0.50360025, 0.09026655, 0.03930514, 0.04852602, 0.45743403,\n",
       "         0.43750089, 0.07396996, 0.0885416 , 0.52819206, 0.05634228,\n",
       "         0.45841899, 0.05725747, 0.46482366, 0.11875982, 0.06734817,\n",
       "         0.42951319, 0.49565929, 0.43714924, 0.45241463, 0.45704887,\n",
       "         0.46449625, 0.45478598, 0.03708944, 0.98551622, 0.45449292,\n",
       "         0.94071043, 0.44002605, 0.4808975 , 0.48445544, 0.48738902,\n",
       "         0.43109583, 0.44697486, 0.49923534, 0.46195965, 0.47385617,\n",
       "         0.50073644, 0.97744066, 0.08098871, 0.49693408, 0.49298577,\n",
       "         0.04741727, 0.95595854, 0.11102151, 0.43539304, 0.50516304,\n",
       "         0.07998193, 0.9255497 , 0.47401342, 0.92874021, 0.9529649 ,\n",
       "         0.94640867, 0.03554691, 0.48052797, 0.47465654, 0.07333799,\n",
       "         0.44625168, 0.05194129, 0.48860695, 0.97288602, 0.4760856 ,\n",
       "         0.49099236, 0.99020134, 0.4617313 , 0.50754914, 0.49531896,\n",
       "         0.00876131, 0.10520918, 0.97200805, 0.95003889, 0.03378335,\n",
       "         0.43604528, 0.10395746, 0.93148169, 0.95407716, 0.92684907,\n",
       "         0.51238301, 0.45858328, 0.08034052, 0.46409485, 0.99045335,\n",
       "         0.96124773, 0.46671789, 0.95622758, 0.4700487 , 0.93460733,\n",
       "         0.47215225, 0.93804828, 0.95552934, 0.05176608, 0.49219349,\n",
       "         0.07858295, 0.04184345, 0.9620472 , 0.53076646, 0.51205959,\n",
       "         0.48230197, 0.12174412, 0.05650854, 0.        , 0.49114084,\n",
       "         0.91900381, 0.45855932, 0.50230019, 0.9422428 , 0.04065199,\n",
       "         0.9270494 , 0.09323312, 0.48467763, 0.93525952, 0.49951569,\n",
       "         0.52871429, 0.05756537, 0.46728233, 0.49170457, 0.93550092,\n",
       "         0.05545674, 0.48359586, 0.42072488, 0.48986958, 0.06541317,\n",
       "         0.4527228 , 0.45044964, 0.51531479, 0.49400511, 0.98053072,\n",
       "         0.48863619, 0.44631959, 0.04551227, 0.47335917, 0.44672784,\n",
       "         0.9153434 , 0.07156182, 0.92427475, 0.96079837, 0.51821899,\n",
       "         0.51124252, 0.03733288, 0.0501695 , 0.9521574 , 0.51820433,\n",
       "         0.40650533, 0.91363716, 0.49551911, 0.53764279, 0.99408657,\n",
       "         0.08166432, 1.        , 0.05704759, 0.02717497, 0.48090228,\n",
       "         0.96544558, 0.51940292, 0.91521778, 0.46304497, 0.47085294],\n",
       "        [0.42613257, 0.36251956, 0.05667731, 0.36087533, 0.12836803,\n",
       "         0.03785987, 0.49706524, 0.5329256 , 0.5212039 , 1.        ,\n",
       "         0.92457593, 0.49163898, 0.53168107, 0.00459162, 0.51691039,\n",
       "         0.94118102, 0.48862447, 0.90426216, 0.49312701, 0.46640319,\n",
       "         0.91943413, 0.06505877, 0.95193837, 0.09894671, 0.93382373,\n",
       "         0.07643253, 0.90937158, 0.50752537, 0.39989786, 0.9091359 ,\n",
       "         0.46973287, 0.97384397, 0.95570132, 0.92850124, 0.10444666,\n",
       "         0.92964067, 0.94689452, 0.03741584, 0.9480213 , 0.97335298,\n",
       "         0.05836997, 0.41113984, 0.50981139, 0.14709481, 0.04100505,\n",
       "         0.47241348, 0.38143877, 0.50017977, 0.92253254, 0.11637424,\n",
       "         0.53557132, 0.42253729, 0.96623194, 0.39706204, 0.45977655,\n",
       "         0.39245362, 0.49917747, 0.01107299, 0.90549148, 0.50449237,\n",
       "         0.89906758, 0.49907004, 0.90120066, 0.40846817, 0.        ,\n",
       "         0.06595583, 0.42364434, 0.94433353, 0.14047952, 0.06372097,\n",
       "         0.58151048, 0.52514327, 0.39705467, 0.44917396, 0.52936357,\n",
       "         0.95357205, 0.54043644, 0.42627923, 0.41057226, 0.422498  ,\n",
       "         0.03134935, 0.9218954 , 0.47218468, 0.09377967, 0.40885607,\n",
       "         0.40607773, 0.93327191, 0.46649263, 0.04758782, 0.41623233,\n",
       "         0.11232943, 0.47151412, 0.39363058, 0.53885564, 0.10186628,\n",
       "         0.50585752, 0.48979854, 0.3651838 , 0.07555665, 0.01879758,\n",
       "         0.94818199, 0.44677899, 0.51678474, 0.53626927, 0.97947701,\n",
       "         0.38776579, 0.02982899, 0.97286297, 0.39615508, 0.52260138,\n",
       "         0.4065318 , 0.48486135, 0.91669519, 0.4166078 , 0.0523233 ,\n",
       "         0.07126121, 0.52277509, 0.07618131, 0.06598174, 0.38920786,\n",
       "         0.48665361, 0.95027879, 0.95922835, 0.09623334, 0.50817198,\n",
       "         0.92763975, 0.91307485, 0.07992541, 0.03076043, 0.36573917,\n",
       "         0.00714248, 0.94007513, 0.57399361, 0.94808758, 0.98340552,\n",
       "         0.38389473, 0.48359902, 0.42422713, 0.42597075, 0.05275321,\n",
       "         0.07923514, 0.50889289, 0.50871651, 0.35138655, 0.11917197,\n",
       "         0.9486315 , 0.4114396 , 0.05894077, 0.11414346, 0.40139134,\n",
       "         0.51689412, 0.3935828 , 0.5206352 , 0.53508088, 0.91328772,\n",
       "         0.4110837 , 0.07612098, 0.47187651, 0.90777411, 0.94750316]]),\n",
       " 'Y': array([[0, 0, 0, 0, 0, 0, 0, 0, 0, 1, 1, 0, 0, 0, 0, 1, 0, 1, 0, 0, 1, 0,\n",
       "         1, 0, 1, 0, 1, 0, 0, 1, 0, 1, 1, 1, 0, 1, 1, 0, 1, 1, 0, 0, 0, 0,\n",
       "         0, 0, 0, 0, 1, 0, 0, 0, 1, 0, 0, 0, 0, 0, 1, 0, 1, 0, 1, 0, 0, 0,\n",
       "         0, 1, 0, 0, 0, 0, 0, 0, 0, 1, 0, 0, 0, 0, 0, 1, 0, 0, 0, 0, 1, 0,\n",
       "         0, 0, 0, 0, 0, 0, 0, 0, 0, 0, 0, 0, 1, 0, 0, 0, 1, 0, 0, 1, 0, 0,\n",
       "         0, 0, 1, 0, 0, 0, 0, 0, 0, 0, 0, 1, 1, 0, 0, 1, 1, 0, 0, 0, 0, 1,\n",
       "         0, 1, 1, 0, 0, 0, 0, 0, 0, 0, 0, 0, 0, 1, 0, 0, 0, 0, 0, 0, 0, 0,\n",
       "         1, 0, 0, 0, 1, 1],\n",
       "        [1, 1, 0, 1, 0, 0, 0, 0, 0, 0, 0, 0, 0, 0, 0, 0, 0, 0, 0, 0, 0, 0,\n",
       "         0, 0, 0, 0, 0, 0, 1, 0, 1, 0, 0, 0, 0, 0, 0, 0, 0, 0, 0, 1, 0, 0,\n",
       "         0, 0, 1, 0, 0, 0, 0, 1, 0, 1, 1, 1, 0, 0, 0, 0, 0, 0, 0, 1, 0, 0,\n",
       "         1, 0, 0, 0, 0, 0, 1, 1, 0, 0, 0, 1, 1, 1, 0, 0, 0, 0, 1, 1, 0, 1,\n",
       "         0, 1, 0, 1, 1, 0, 0, 0, 0, 1, 0, 0, 0, 0, 0, 0, 0, 1, 0, 0, 1, 0,\n",
       "         1, 0, 0, 1, 0, 0, 0, 0, 0, 1, 0, 0, 0, 0, 0, 0, 0, 0, 0, 1, 0, 0,\n",
       "         0, 0, 0, 1, 0, 1, 1, 0, 0, 0, 0, 1, 0, 0, 1, 0, 0, 1, 0, 1, 0, 0,\n",
       "         0, 1, 0, 1, 0, 0],\n",
       "        [0, 0, 1, 0, 1, 1, 0, 0, 0, 0, 0, 0, 0, 1, 0, 0, 0, 0, 0, 0, 0, 1,\n",
       "         0, 1, 0, 1, 0, 0, 0, 0, 0, 0, 0, 0, 1, 0, 0, 1, 0, 0, 1, 0, 0, 1,\n",
       "         1, 0, 0, 0, 0, 1, 0, 0, 0, 0, 0, 0, 0, 1, 0, 0, 0, 0, 0, 0, 1, 1,\n",
       "         0, 0, 1, 1, 0, 0, 0, 0, 0, 0, 0, 0, 0, 0, 1, 0, 0, 1, 0, 0, 0, 0,\n",
       "         1, 0, 1, 0, 0, 0, 1, 0, 0, 0, 1, 1, 0, 0, 0, 0, 0, 0, 1, 0, 0, 0,\n",
       "         0, 0, 0, 0, 1, 1, 0, 1, 1, 0, 0, 0, 0, 1, 0, 0, 0, 1, 1, 0, 1, 0,\n",
       "         0, 0, 0, 0, 0, 0, 0, 1, 1, 0, 0, 0, 1, 0, 0, 1, 1, 0, 0, 0, 0, 0,\n",
       "         0, 0, 1, 0, 0, 0],\n",
       "        [0, 0, 0, 0, 0, 0, 1, 1, 1, 0, 0, 1, 1, 0, 1, 0, 1, 0, 1, 1, 0, 0,\n",
       "         0, 0, 0, 0, 0, 1, 0, 0, 0, 0, 0, 0, 0, 0, 0, 0, 0, 0, 0, 0, 1, 0,\n",
       "         0, 1, 0, 1, 0, 0, 1, 0, 0, 0, 0, 0, 1, 0, 0, 1, 0, 1, 0, 0, 0, 0,\n",
       "         0, 0, 0, 0, 1, 1, 0, 0, 1, 0, 1, 0, 0, 0, 0, 0, 1, 0, 0, 0, 0, 0,\n",
       "         0, 0, 0, 0, 0, 1, 0, 1, 1, 0, 0, 0, 0, 1, 1, 1, 0, 0, 0, 0, 0, 1,\n",
       "         0, 1, 0, 0, 0, 0, 1, 0, 0, 0, 1, 0, 0, 0, 1, 0, 0, 0, 0, 0, 0, 0,\n",
       "         1, 0, 0, 0, 1, 0, 0, 0, 0, 1, 1, 0, 0, 0, 0, 0, 0, 0, 1, 0, 1, 1,\n",
       "         0, 0, 0, 0, 0, 0]], dtype=uint8)}"
      ]
     },
     "execution_count": 4,
     "metadata": {},
     "output_type": "execute_result"
    }
   ],
   "source": [
    "mat = sio.loadmat('DataSet3.mat')\n",
    "mat"
   ]
  },
  {
   "cell_type": "code",
   "execution_count": 5,
   "metadata": {},
   "outputs": [
    {
     "data": {
      "text/plain": [
       "array([[0.96090597, 0.9566975 , 0.50640047, 0.9775495 , 0.49868217,\n",
       "        0.50360024, 0.09026656, 0.03930514, 0.04852602, 0.45743403,\n",
       "        0.4375009 , 0.07396995, 0.0885416 , 0.52819204, 0.05634228,\n",
       "        0.458419  , 0.05725747, 0.46482366, 0.11875982, 0.06734817,\n",
       "        0.4295132 , 0.4956593 , 0.43714923, 0.45241463, 0.45704886,\n",
       "        0.46449625, 0.45478597, 0.03708944, 0.9855162 , 0.45449293,\n",
       "        0.9407104 , 0.44002604, 0.48089752, 0.48445544, 0.48738903,\n",
       "        0.43109584, 0.44697484, 0.49923533, 0.46195966, 0.47385618,\n",
       "        0.5007364 , 0.97744066, 0.08098871, 0.4969341 , 0.49298579,\n",
       "        0.04741726, 0.95595855, 0.11102151, 0.43539304, 0.505163  ,\n",
       "        0.07998193, 0.9255497 , 0.47401342, 0.9287402 , 0.9529649 ,\n",
       "        0.9464087 , 0.03554691, 0.48052797, 0.47465655, 0.07333799,\n",
       "        0.4462517 , 0.05194129, 0.48860696, 0.972886  , 0.4760856 ,\n",
       "        0.49099237, 0.99020135, 0.4617313 , 0.50754917, 0.49531895,\n",
       "        0.00876131, 0.10520917, 0.97200805, 0.9500389 , 0.03378335,\n",
       "        0.4360453 , 0.10395746, 0.9314817 , 0.9540772 , 0.92684907,\n",
       "        0.512383  , 0.4585833 , 0.08034052, 0.46409485, 0.99045336,\n",
       "        0.96124774, 0.4667179 , 0.9562276 , 0.4700487 , 0.9346073 ,\n",
       "        0.47215226, 0.9380483 , 0.95552933, 0.05176608, 0.4921935 ,\n",
       "        0.07858296, 0.04184345, 0.9620472 , 0.5307664 , 0.51205957,\n",
       "        0.48230198, 0.12174412, 0.05650854, 0.        , 0.49114084,\n",
       "        0.9190038 , 0.4585593 , 0.5023002 , 0.9422428 , 0.04065199,\n",
       "        0.9270494 , 0.09323312, 0.48467764, 0.9352595 , 0.49951568,\n",
       "        0.5287143 , 0.05756537, 0.46728233, 0.49170455, 0.9355009 ,\n",
       "        0.05545674, 0.48359585, 0.42072487, 0.4898696 , 0.06541317,\n",
       "        0.4527228 , 0.45044965, 0.51531476, 0.4940051 , 0.98053074,\n",
       "        0.4886362 , 0.44631958, 0.04551227, 0.47335917, 0.44672784,\n",
       "        0.9153434 , 0.07156181, 0.92427474, 0.9607984 , 0.518219  ,\n",
       "        0.5112425 , 0.03733288, 0.0501695 , 0.9521574 , 0.51820433,\n",
       "        0.40650532, 0.91363716, 0.4955191 , 0.5376428 , 0.99408656,\n",
       "        0.08166432, 1.        , 0.05704759, 0.02717497, 0.48090228,\n",
       "        0.9654456 , 0.5194029 , 0.91521776, 0.46304497, 0.47085294],\n",
       "       [0.4261326 , 0.36251956, 0.05667731, 0.36087534, 0.12836803,\n",
       "        0.03785987, 0.49706525, 0.5329256 , 0.5212039 , 1.        ,\n",
       "        0.9245759 , 0.491639  , 0.53168106, 0.00459162, 0.5169104 ,\n",
       "        0.941181  , 0.48862445, 0.9042622 , 0.49312702, 0.4664032 ,\n",
       "        0.91943413, 0.06505878, 0.9519384 , 0.09894671, 0.9338237 ,\n",
       "        0.07643253, 0.9093716 , 0.5075254 , 0.39989787, 0.9091359 ,\n",
       "        0.46973288, 0.973844  , 0.9557013 , 0.92850125, 0.10444666,\n",
       "        0.92964065, 0.9468945 , 0.03741584, 0.9480213 , 0.97335297,\n",
       "        0.05836998, 0.41113985, 0.5098114 , 0.14709482, 0.04100505,\n",
       "        0.47241348, 0.38143876, 0.50017977, 0.92253256, 0.11637424,\n",
       "        0.53557134, 0.4225373 , 0.96623194, 0.39706203, 0.45977655,\n",
       "        0.3924536 , 0.4991775 , 0.01107299, 0.9054915 , 0.5044924 ,\n",
       "        0.8990676 , 0.49907005, 0.90120065, 0.40846816, 0.        ,\n",
       "        0.06595583, 0.42364433, 0.94433355, 0.14047952, 0.06372097,\n",
       "        0.5815105 , 0.52514327, 0.39705467, 0.44917396, 0.5293636 ,\n",
       "        0.95357203, 0.54043645, 0.42627925, 0.41057226, 0.422498  ,\n",
       "        0.03134935, 0.9218954 , 0.4721847 , 0.09377967, 0.40885606,\n",
       "        0.4060777 , 0.9332719 , 0.46649262, 0.04758782, 0.41623232,\n",
       "        0.11232943, 0.4715141 , 0.39363056, 0.5388557 , 0.10186628,\n",
       "        0.5058575 , 0.48979855, 0.3651838 , 0.07555665, 0.01879758,\n",
       "        0.948182  , 0.44677898, 0.5167847 , 0.53626925, 0.979477  ,\n",
       "        0.3877658 , 0.02982899, 0.97286296, 0.3961551 , 0.52260137,\n",
       "        0.4065318 , 0.48486134, 0.9166952 , 0.4166078 , 0.0523233 ,\n",
       "        0.0712612 , 0.5227751 , 0.07618131, 0.06598174, 0.38920787,\n",
       "        0.48665363, 0.95027876, 0.95922834, 0.09623334, 0.508172  ,\n",
       "        0.9276398 , 0.91307485, 0.07992541, 0.03076044, 0.36573917,\n",
       "        0.00714248, 0.9400751 , 0.5739936 , 0.9480876 , 0.98340553,\n",
       "        0.38389474, 0.483599  , 0.42422712, 0.42597076, 0.05275321,\n",
       "        0.07923514, 0.5088929 , 0.5087165 , 0.35138655, 0.11917197,\n",
       "        0.9486315 , 0.4114396 , 0.05894077, 0.11414346, 0.40139133,\n",
       "        0.5168941 , 0.3935828 , 0.5206352 , 0.53508085, 0.9132877 ,\n",
       "        0.4110837 , 0.07612098, 0.4718765 , 0.9077741 , 0.94750315]],\n",
       "      dtype=float32)"
      ]
     },
     "execution_count": 5,
     "metadata": {},
     "output_type": "execute_result"
    }
   ],
   "source": [
    "x = mat.get('X').astype(np.float32)\n",
    "x"
   ]
  },
  {
   "cell_type": "code",
   "execution_count": 6,
   "metadata": {},
   "outputs": [
    {
     "data": {
      "text/plain": [
       "array([[0, 0, 0, 0, 0, 0, 0, 0, 0, 1, 1, 0, 0, 0, 0, 1, 0, 1, 0, 0, 1, 0,\n",
       "        1, 0, 1, 0, 1, 0, 0, 1, 0, 1, 1, 1, 0, 1, 1, 0, 1, 1, 0, 0, 0, 0,\n",
       "        0, 0, 0, 0, 1, 0, 0, 0, 1, 0, 0, 0, 0, 0, 1, 0, 1, 0, 1, 0, 0, 0,\n",
       "        0, 1, 0, 0, 0, 0, 0, 0, 0, 1, 0, 0, 0, 0, 0, 1, 0, 0, 0, 0, 1, 0,\n",
       "        0, 0, 0, 0, 0, 0, 0, 0, 0, 0, 0, 0, 1, 0, 0, 0, 1, 0, 0, 1, 0, 0,\n",
       "        0, 0, 1, 0, 0, 0, 0, 0, 0, 0, 0, 1, 1, 0, 0, 1, 1, 0, 0, 0, 0, 1,\n",
       "        0, 1, 1, 0, 0, 0, 0, 0, 0, 0, 0, 0, 0, 1, 0, 0, 0, 0, 0, 0, 0, 0,\n",
       "        1, 0, 0, 0, 1, 1],\n",
       "       [1, 1, 0, 1, 0, 0, 0, 0, 0, 0, 0, 0, 0, 0, 0, 0, 0, 0, 0, 0, 0, 0,\n",
       "        0, 0, 0, 0, 0, 0, 1, 0, 1, 0, 0, 0, 0, 0, 0, 0, 0, 0, 0, 1, 0, 0,\n",
       "        0, 0, 1, 0, 0, 0, 0, 1, 0, 1, 1, 1, 0, 0, 0, 0, 0, 0, 0, 1, 0, 0,\n",
       "        1, 0, 0, 0, 0, 0, 1, 1, 0, 0, 0, 1, 1, 1, 0, 0, 0, 0, 1, 1, 0, 1,\n",
       "        0, 1, 0, 1, 1, 0, 0, 0, 0, 1, 0, 0, 0, 0, 0, 0, 0, 1, 0, 0, 1, 0,\n",
       "        1, 0, 0, 1, 0, 0, 0, 0, 0, 1, 0, 0, 0, 0, 0, 0, 0, 0, 0, 1, 0, 0,\n",
       "        0, 0, 0, 1, 0, 1, 1, 0, 0, 0, 0, 1, 0, 0, 1, 0, 0, 1, 0, 1, 0, 0,\n",
       "        0, 1, 0, 1, 0, 0],\n",
       "       [0, 0, 1, 0, 1, 1, 0, 0, 0, 0, 0, 0, 0, 1, 0, 0, 0, 0, 0, 0, 0, 1,\n",
       "        0, 1, 0, 1, 0, 0, 0, 0, 0, 0, 0, 0, 1, 0, 0, 1, 0, 0, 1, 0, 0, 1,\n",
       "        1, 0, 0, 0, 0, 1, 0, 0, 0, 0, 0, 0, 0, 1, 0, 0, 0, 0, 0, 0, 1, 1,\n",
       "        0, 0, 1, 1, 0, 0, 0, 0, 0, 0, 0, 0, 0, 0, 1, 0, 0, 1, 0, 0, 0, 0,\n",
       "        1, 0, 1, 0, 0, 0, 1, 0, 0, 0, 1, 1, 0, 0, 0, 0, 0, 0, 1, 0, 0, 0,\n",
       "        0, 0, 0, 0, 1, 1, 0, 1, 1, 0, 0, 0, 0, 1, 0, 0, 0, 1, 1, 0, 1, 0,\n",
       "        0, 0, 0, 0, 0, 0, 0, 1, 1, 0, 0, 0, 1, 0, 0, 1, 1, 0, 0, 0, 0, 0,\n",
       "        0, 0, 1, 0, 0, 0],\n",
       "       [0, 0, 0, 0, 0, 0, 1, 1, 1, 0, 0, 1, 1, 0, 1, 0, 1, 0, 1, 1, 0, 0,\n",
       "        0, 0, 0, 0, 0, 1, 0, 0, 0, 0, 0, 0, 0, 0, 0, 0, 0, 0, 0, 0, 1, 0,\n",
       "        0, 1, 0, 1, 0, 0, 1, 0, 0, 0, 0, 0, 1, 0, 0, 1, 0, 1, 0, 0, 0, 0,\n",
       "        0, 0, 0, 0, 1, 1, 0, 0, 1, 0, 1, 0, 0, 0, 0, 0, 1, 0, 0, 0, 0, 0,\n",
       "        0, 0, 0, 0, 0, 1, 0, 1, 1, 0, 0, 0, 0, 1, 1, 1, 0, 0, 0, 0, 0, 1,\n",
       "        0, 1, 0, 0, 0, 0, 1, 0, 0, 0, 1, 0, 0, 0, 1, 0, 0, 0, 0, 0, 0, 0,\n",
       "        1, 0, 0, 0, 1, 0, 0, 0, 0, 1, 1, 0, 0, 0, 0, 0, 0, 0, 1, 0, 1, 1,\n",
       "        0, 0, 0, 0, 0, 0]], dtype=uint8)"
      ]
     },
     "execution_count": 6,
     "metadata": {},
     "output_type": "execute_result"
    }
   ],
   "source": [
    "y = mat.get('Y')\n",
    "y"
   ]
  },
  {
   "cell_type": "code",
   "execution_count": 7,
   "metadata": {},
   "outputs": [
    {
     "data": {
      "image/png": "[encoded data removed]",
      "text/plain": [
       "<Figure size 432x288 with 1 Axes>"
      ]
     },
     "metadata": {
      "needs_background": "light"
     },
     "output_type": "display_data"
    }
   ],
   "source": [
    "plt.title('Data Distribution')\n",
    "plt.grid()\n",
    "plt.axis(xlim=(0, 1), ylim=(0, 1), equal=True)\n",
    "plt.plot(x[0, y[0, :] == 1], x[1, y[0, :] == 1], '.b')\n",
    "plt.plot(x[0, y[1, :] == 1], x[1, y[1, :] == 1], '.r')\n",
    "plt.plot(x[0, y[2, :] == 1], x[1, y[2, :] == 1], '.g')\n",
    "plt.plot(x[0, y[3, :] == 1], x[1, y[3, :] == 1], '.y')\n",
    "plt.show()"
   ]
  },
  {
   "cell_type": "code",
   "execution_count": 8,
   "metadata": {},
   "outputs": [
    {
     "name": "stdout",
     "output_type": "stream",
     "text": [
      "2 160\n"
     ]
    }
   ],
   "source": [
    "dim, samples = x.shape\n",
    "print(dim, samples)"
   ]
  },
  {
   "cell_type": "code",
   "execution_count": 9,
   "metadata": {},
   "outputs": [
    {
     "name": "stdout",
     "output_type": "stream",
     "text": [
      "4 160\n"
     ]
    }
   ],
   "source": [
    "types, samples = y.shape\n",
    "print(types, samples)"
   ]
  },
  {
   "cell_type": "code",
   "execution_count": 10,
   "metadata": {},
   "outputs": [
    {
     "data": {
      "text/plain": [
       "array([[ 0.45294891, -0.41304937],\n",
       "       [ 0.21202712, -0.91545892],\n",
       "       [ 0.20208939, -0.77671995],\n",
       "       [-0.68903634,  0.58183062]])"
      ]
     },
     "execution_count": 10,
     "metadata": {},
     "output_type": "execute_result"
    }
   ],
   "source": [
    "w = -1 + 2 * np.random.rand(types, dim)\n",
    "w"
   ]
  },
  {
   "cell_type": "code",
   "execution_count": 11,
   "metadata": {},
   "outputs": [
    {
     "data": {
      "text/plain": [
       "array([[ 0.77957718],\n",
       "       [-0.42283638],\n",
       "       [-0.10707437],\n",
       "       [-0.96648265]])"
      ]
     },
     "execution_count": 11,
     "metadata": {},
     "output_type": "execute_result"
    }
   ],
   "source": [
    "b = -1 + 2 * np.random.rand(types, 1)\n",
    "b"
   ]
  },
  {
   "cell_type": "code",
   "execution_count": 12,
   "metadata": {},
   "outputs": [
    {
     "data": {
      "text/plain": [
       "0.7"
      ]
     },
     "execution_count": 12,
     "metadata": {},
     "output_type": "execute_result"
    }
   ],
   "source": [
    "eta = .7\n",
    "eta"
   ]
  },
  {
   "cell_type": "code",
   "execution_count": 13,
   "metadata": {
    "scrolled": true
   },
   "outputs": [
    {
     "data": {
      "text/plain": [
       "array([[-0.43819778,  3.17889701],\n",
       "       [ 3.50344472, -0.87396274],\n",
       "       [-0.0394893 , -4.04085323],\n",
       "       [-3.92615437,  0.41605863]])"
      ]
     },
     "execution_count": 13,
     "metadata": {},
     "output_type": "execute_result"
    }
   ],
   "source": [
    "w_res, b_res = one_layer_network(x=x,Y=y,w=w,b=b,eta=eta,p=samples)\n",
    "w_res"
   ]
  },
  {
   "cell_type": "code",
   "execution_count": 14,
   "metadata": {},
   "outputs": [
    {
     "data": {
      "text/plain": [
       "array([[-2.29672159],\n",
       "       [-2.37824877],\n",
       "       [ 0.67469609],\n",
       "       [ 0.42894665]])"
      ]
     },
     "execution_count": 14,
     "metadata": {},
     "output_type": "execute_result"
    }
   ],
   "source": [
    "b_res"
   ]
  },
  {
   "cell_type": "code",
   "execution_count": 15,
   "metadata": {},
   "outputs": [
    {
     "data": {
      "image/png": "[encoded data removed]",
      "text/plain": [
       "<Figure size 432x288 with 1 Axes>"
      ]
     },
     "metadata": {
      "needs_background": "light"
     },
     "output_type": "display_data"
    }
   ],
   "source": [
    "plt.title('Data Classified')\n",
    "plt.grid()\n",
    "plt.axis(xlim=(0, 1), ylim=(0, 1), equal=True)\n",
    "plt.plot(x[0, y[0, :] == 1], x[1, y[0, :] == 1], '.b')\n",
    "plt.plot(x[0, y[1, :] == 1], x[1, y[1, :] == 1], '.r')\n",
    "plt.plot(x[0, y[2, :] == 1], x[1, y[2, :] == 1], '.g')\n",
    "plt.plot(x[0, y[3, :] == 1], x[1, y[3, :] == 1], '.y')\n",
    "plt.plot([0,1], \n",
    "         [- (w_res[0,0] / w_res[0,1]) * 0 - (b_res[0] / w_res[0,1]), - (w_res[0,0] / w_res[0,1]) * 1 - (b_res[0] / w_res[0,1])], '-b')\n",
    "plt.plot([0,1], \n",
    "         [- (w_res[1,0] / w_res[1,1]) * 0 - (b_res[1] / w_res[1,1]), - (w_res[1,0] / w_res[1,1]) * 1 - (b_res[1] / w_res[1,1])], '-r')\n",
    "plt.plot([0,1], \n",
    "         [- (w_res[2,0] / w_res[2,1]) * 0 - (b_res[2] / w_res[2,1]), - (w_res[2,0] / w_res[2,1]) * 1 - (b_res[2] / w_res[2,1])], '-g')\n",
    "plt.plot([0,1], \n",
    "         [- (w_res[3,0] / w_res[3,1]) * 0 - (b_res[3] / w_res[3,1]), - (w_res[3,0] / w_res[3,1]) * 1 - (b_res[3] / w_res[3,1])], '-y')\n",
    "plt.xlim(0,1)\n",
    "plt.ylim(0,1)\n",
    "plt.show()"
   ]
  }
 ],
 "metadata": {
  "kernelspec": {
   "display_name": "Python 3",
   "language": "python",
   "name": "python3"
  },
  "language_info": {
   "codemirror_mode": {
    "name": "ipython",
    "version": 3
   },
   "file_extension": ".py",
   "mimetype": "text/x-python",
   "name": "python",
   "nbconvert_exporter": "python",
   "pygments_lexer": "ipython3",
   "version": "3.7.3"
  }
 },
 "nbformat": 4,
 "nbformat_minor": 2
}
